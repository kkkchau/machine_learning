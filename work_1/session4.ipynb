{
 "cells": [
  {
   "cell_type": "markdown",
   "id": "526cfb00",
   "metadata": {},
   "source": [
    "# Выполнено Зверьковой Елизаветой Алексеевной"
   ]
  },
  {
   "cell_type": "markdown",
   "id": "dbe3dff6",
   "metadata": {},
   "source": [
    "# Сессия 4"
   ]
  },
  {
   "cell_type": "markdown",
   "id": "6e2d2e07",
   "metadata": {},
   "source": [
    "## В данной сессии нам необходимо: \n",
    "- разработать прогнозную модель для определения категории новой жалобы\n",
    "- подобрать алгоритм прогнозирования в результате сравнения нескольких вариантов и оценить точность их работы"
   ]
  },
  {
   "cell_type": "code",
   "execution_count": 2,
   "id": "650be68d",
   "metadata": {},
   "outputs": [],
   "source": [
    "# Импорты\n",
    "import pandas as pd \n",
    "import matplotlib.pyplot as plt\n",
    "%matplotlib inline\n",
    "from sklearn.feature_extraction.text import TfidfTransformer, CountVectorizer\n",
    "import numpy as np\n",
    "from sklearn.model_selection import train_test_split\n",
    "import warnings\n",
    "warnings.filterwarnings(\"ignore\")\n",
    "# models\n",
    "from sklearn.neighbors import KNeighborsClassifier\n",
    "from sklearn.ensemble import RandomForestClassifier\n",
    "from sklearn.linear_model import LogisticRegression\n",
    "from sklearn.feature_extraction.text import TfidfVectorizer\n",
    "from sklearn.decomposition import NMF\n",
    "from sklearn.pipeline import Pipeline\n",
    "from sklearn.model_selection import GridSearchCV\n",
    "from sklearn.metrics import accuracy_score, f1_score, recall_score\n",
    "import seaborn as sns \n",
    "import re\n",
    "# saving\n",
    "import pickle"
   ]
  },
  {
   "cell_type": "code",
   "execution_count": 5,
   "id": "a2e6b970",
   "metadata": {},
   "outputs": [],
   "source": [
    "df = pd.read_csv('df.csv', index_col=0) #сохраненный ранее датасет"
   ]
  },
  {
   "cell_type": "code",
   "execution_count": 6,
   "id": "19d8aabf",
   "metadata": {},
   "outputs": [],
   "source": [
    "df = df.fillna('') #заполним пропуски в данных для дальнейшей работы"
   ]
  },
  {
   "cell_type": "markdown",
   "id": "2253afab",
   "metadata": {},
   "source": [
    "Для начала перегруппируем данные для дальнейшей работы, создав колонку `total_w`, которая будет содержать в себе все данные кроме целевой переменной"
   ]
  },
  {
   "cell_type": "code",
   "execution_count": 7,
   "id": "ca1a2332",
   "metadata": {},
   "outputs": [],
   "source": [
    "#перегруппировка\n",
    "tmp = []\n",
    "for i in range(len(df)):\n",
    "    tmp.append(df.iloc[i][\"reason_petition\"] + \" \" + df.iloc[i][\"key_words\"]+ \" \" + df.iloc[i][\"petition_text\"])\n",
    "\n",
    "#создание новой колонки и удаление всех спецсимволов из нее\n",
    "df[\"total_w\"] = tmp\n",
    "df['total_w'] = df['total_w'].apply(lambda x: re.sub(\"[^a-zA-Zа-яА-Я]\", \" \", str(x)).lower().strip())"
   ]
  },
  {
   "cell_type": "code",
   "execution_count": 8,
   "id": "42855c78",
   "metadata": {},
   "outputs": [
    {
     "data": {
      "text/html": [
       "<div>\n",
       "<style scoped>\n",
       "    .dataframe tbody tr th:only-of-type {\n",
       "        vertical-align: middle;\n",
       "    }\n",
       "\n",
       "    .dataframe tbody tr th {\n",
       "        vertical-align: top;\n",
       "    }\n",
       "\n",
       "    .dataframe thead th {\n",
       "        text-align: right;\n",
       "    }\n",
       "</style>\n",
       "<table border=\"1\" class=\"dataframe\">\n",
       "  <thead>\n",
       "    <tr style=\"text-align: right;\">\n",
       "      <th></th>\n",
       "      <th>date</th>\n",
       "      <th>petition_text</th>\n",
       "      <th>reason_petition</th>\n",
       "      <th>category_petition</th>\n",
       "      <th>key_words</th>\n",
       "      <th>total_w</th>\n",
       "    </tr>\n",
       "  </thead>\n",
       "  <tbody>\n",
       "    <tr>\n",
       "      <th>0</th>\n",
       "      <td>2020-11-13</td>\n",
       "      <td>коридор</td>\n",
       "      <td>неудовлетворительное состояние парадной</td>\n",
       "      <td>Содержание МКД</td>\n",
       "      <td>коридор</td>\n",
       "      <td>неудовлетворительное состояние парадной коридо...</td>\n",
       "    </tr>\n",
       "    <tr>\n",
       "      <th>1</th>\n",
       "      <td>2020-11-05</td>\n",
       "      <td>лифт изрисовать внутри</td>\n",
       "      <td>неудовлетворительное состояние парадной</td>\n",
       "      <td>Содержание МКД</td>\n",
       "      <td>внутри, изрисовать, изрисовать внутри, лифт</td>\n",
       "      <td>неудовлетворительное состояние парадной внутри...</td>\n",
       "    </tr>\n",
       "    <tr>\n",
       "      <th>2</th>\n",
       "      <td>2020-11-03</td>\n",
       "      <td>реклама светофор</td>\n",
       "      <td>несанкционированные надписи   объявления на те...</td>\n",
       "      <td>Благоустройство</td>\n",
       "      <td>реклама, реклама светофор, светофор</td>\n",
       "      <td>несанкционированные надписи   объявления на те...</td>\n",
       "    </tr>\n",
       "    <tr>\n",
       "      <th>3</th>\n",
       "      <td>2020-11-23</td>\n",
       "      <td>квартирный холл рааботник тсж</td>\n",
       "      <td>неудовлетворительное состояние парадной</td>\n",
       "      <td>Содержание МКД</td>\n",
       "      <td>квартирный, квартирный холл, квартирный холл р...</td>\n",
       "      <td>неудовлетворительное состояние парадной кварти...</td>\n",
       "    </tr>\n",
       "    <tr>\n",
       "      <th>4</th>\n",
       "      <td>2020-12-16</td>\n",
       "      <td>незаконный решётка фасад</td>\n",
       "      <td>самовольное размещение наружн  блоков систем к...</td>\n",
       "      <td>Нарушение правил пользования общим имуществом</td>\n",
       "      <td>незаконный, незаконный решётка, незаконный реш...</td>\n",
       "      <td>самовольное размещение наружн  блоков систем к...</td>\n",
       "    </tr>\n",
       "    <tr>\n",
       "      <th>...</th>\n",
       "      <td>...</td>\n",
       "      <td>...</td>\n",
       "      <td>...</td>\n",
       "      <td>...</td>\n",
       "      <td>...</td>\n",
       "      <td>...</td>\n",
       "    </tr>\n",
       "    <tr>\n",
       "      <th>59884</th>\n",
       "      <td>2021-04-23</td>\n",
       "      <td>систематический блокирование парковка крупнога...</td>\n",
       "      <td>мусор на внутридворовой территории</td>\n",
       "      <td>Благоустройство</td>\n",
       "      <td>блокирование, блокирование парковка, блокирова...</td>\n",
       "      <td>мусор на внутридворовой территории блокировани...</td>\n",
       "    </tr>\n",
       "    <tr>\n",
       "      <th>59885</th>\n",
       "      <td>2021-04-23</td>\n",
       "      <td>маршал захаров высокий точка младший школа мал...</td>\n",
       "      <td>неочищенные урны</td>\n",
       "      <td>Благоустройство</td>\n",
       "      <td>разбитый, разбитый сломаный, урна, школа</td>\n",
       "      <td>неочищенные урны разбитый  разбитый сломаный  ...</td>\n",
       "    </tr>\n",
       "    <tr>\n",
       "      <th>59886</th>\n",
       "      <td>2021-04-23</td>\n",
       "      <td>люк выдавить гранитный мощение люк выдавить пл...</td>\n",
       "      <td>неудовлетворительное состояние колодца  люка</td>\n",
       "      <td>Повреждения или неисправность элементов улично...</td>\n",
       "      <td>выдавить, люк, мощение, плита</td>\n",
       "      <td>неудовлетворительное состояние колодца  люка в...</td>\n",
       "    </tr>\n",
       "    <tr>\n",
       "      <th>59887</th>\n",
       "      <td>2021-04-23</td>\n",
       "      <td>поврежда н асфальт люк</td>\n",
       "      <td>неудовлетворительное состояние колодца  люка</td>\n",
       "      <td>Повреждения или неисправность элементов улично...</td>\n",
       "      <td>асфальт, асфальт люк, люк, поврежда</td>\n",
       "      <td>неудовлетворительное состояние колодца  люка а...</td>\n",
       "    </tr>\n",
       "    <tr>\n",
       "      <th>59888</th>\n",
       "      <td>2021-04-23</td>\n",
       "      <td>кадастровый карта дать участок дорога принадле...</td>\n",
       "      <td>повреждения дорожного покрытия  проезжей части</td>\n",
       "      <td>Благоустройство</td>\n",
       "      <td>дорога, кадастровый, кадастровый карта, участок</td>\n",
       "      <td>повреждения дорожного покрытия  проезжей части...</td>\n",
       "    </tr>\n",
       "  </tbody>\n",
       "</table>\n",
       "<p>59835 rows × 6 columns</p>\n",
       "</div>"
      ],
      "text/plain": [
       "             date                                      petition_text  \\\n",
       "0      2020-11-13                                            коридор   \n",
       "1      2020-11-05                             лифт изрисовать внутри   \n",
       "2      2020-11-03                                   реклама светофор   \n",
       "3      2020-11-23                      квартирный холл рааботник тсж   \n",
       "4      2020-12-16                           незаконный решётка фасад   \n",
       "...           ...                                                ...   \n",
       "59884  2021-04-23  систематический блокирование парковка крупнога...   \n",
       "59885  2021-04-23  маршал захаров высокий точка младший школа мал...   \n",
       "59886  2021-04-23  люк выдавить гранитный мощение люк выдавить пл...   \n",
       "59887  2021-04-23                             поврежда н асфальт люк   \n",
       "59888  2021-04-23  кадастровый карта дать участок дорога принадле...   \n",
       "\n",
       "                                         reason_petition  \\\n",
       "0                неудовлетворительное состояние парадной   \n",
       "1                неудовлетворительное состояние парадной   \n",
       "2      несанкционированные надписи   объявления на те...   \n",
       "3                неудовлетворительное состояние парадной   \n",
       "4      самовольное размещение наружн  блоков систем к...   \n",
       "...                                                  ...   \n",
       "59884                 мусор на внутридворовой территории   \n",
       "59885                                   неочищенные урны   \n",
       "59886       неудовлетворительное состояние колодца  люка   \n",
       "59887       неудовлетворительное состояние колодца  люка   \n",
       "59888     повреждения дорожного покрытия  проезжей части   \n",
       "\n",
       "                                       category_petition  \\\n",
       "0                                         Содержание МКД   \n",
       "1                                         Содержание МКД   \n",
       "2                                        Благоустройство   \n",
       "3                                         Содержание МКД   \n",
       "4          Нарушение правил пользования общим имуществом   \n",
       "...                                                  ...   \n",
       "59884                                    Благоустройство   \n",
       "59885                                    Благоустройство   \n",
       "59886  Повреждения или неисправность элементов улично...   \n",
       "59887  Повреждения или неисправность элементов улично...   \n",
       "59888                                    Благоустройство   \n",
       "\n",
       "                                               key_words  \\\n",
       "0                                                коридор   \n",
       "1            внутри, изрисовать, изрисовать внутри, лифт   \n",
       "2                    реклама, реклама светофор, светофор   \n",
       "3      квартирный, квартирный холл, квартирный холл р...   \n",
       "4      незаконный, незаконный решётка, незаконный реш...   \n",
       "...                                                  ...   \n",
       "59884  блокирование, блокирование парковка, блокирова...   \n",
       "59885           разбитый, разбитый сломаный, урна, школа   \n",
       "59886                      выдавить, люк, мощение, плита   \n",
       "59887                асфальт, асфальт люк, люк, поврежда   \n",
       "59888    дорога, кадастровый, кадастровый карта, участок   \n",
       "\n",
       "                                                 total_w  \n",
       "0      неудовлетворительное состояние парадной коридо...  \n",
       "1      неудовлетворительное состояние парадной внутри...  \n",
       "2      несанкционированные надписи   объявления на те...  \n",
       "3      неудовлетворительное состояние парадной кварти...  \n",
       "4      самовольное размещение наружн  блоков систем к...  \n",
       "...                                                  ...  \n",
       "59884  мусор на внутридворовой территории блокировани...  \n",
       "59885  неочищенные урны разбитый  разбитый сломаный  ...  \n",
       "59886  неудовлетворительное состояние колодца  люка в...  \n",
       "59887  неудовлетворительное состояние колодца  люка а...  \n",
       "59888  повреждения дорожного покрытия  проезжей части...  \n",
       "\n",
       "[59835 rows x 6 columns]"
      ]
     },
     "execution_count": 8,
     "metadata": {},
     "output_type": "execute_result"
    }
   ],
   "source": [
    "df"
   ]
  },
  {
   "cell_type": "markdown",
   "id": "2a4614f7",
   "metadata": {},
   "source": [
    "---"
   ]
  },
  {
   "cell_type": "markdown",
   "id": "8f4ced5a",
   "metadata": {},
   "source": [
    "# 4.1. Разбиение набора данных на обучающую и тестовую выборки"
   ]
  },
  {
   "cell_type": "markdown",
   "id": "e6683765",
   "metadata": {},
   "source": [
    "## На данном этапе необходимо выполнить:\n",
    "- разбиение данных на тестовую и валидационную выборки\n",
    "- обосновать процент разбиения"
   ]
  },
  {
   "cell_type": "markdown",
   "id": "a6ff70f8",
   "metadata": {},
   "source": [
    "Разобьем наши данные используя только текст обращения граждан и целевую переменную и посмотрим, как при таком разбиении поведет себя модель"
   ]
  },
  {
   "cell_type": "code",
   "execution_count": 13,
   "id": "2a531a41",
   "metadata": {},
   "outputs": [],
   "source": [
    "X_train, X_test, y_train, y_test = train_test_split(df[\"total_w\"], df[\"category_petition\"], test_size=0.33, stratify = df[\"category_petition\"])"
   ]
  },
  {
   "cell_type": "markdown",
   "id": "ba6a432d",
   "metadata": {},
   "source": [
    "Тестовый набор у нас равен 33%, то есть одна треть, так как это наиболее оптимальный вариант разбиения для небольшего объема данных, как у нас"
   ]
  },
  {
   "cell_type": "code",
   "execution_count": 17,
   "id": "f519e223",
   "metadata": {},
   "outputs": [
    {
     "name": "stdout",
     "output_type": "stream",
     "text": [
      "KNeighborsClassifier()\n",
      "\taccuracy_score 0.9168945609237313\n",
      "\tf1_score 0.9179777880620641\n",
      "\trecall_score 0.9087898026781596\n",
      "<================>\n",
      "RandomForestClassifier()\n",
      "\taccuracy_score 0.9993416388129241\n",
      "\tf1_score 0.9993440574469179\n",
      "\trecall_score 0.9998669475871799\n",
      "<================>\n",
      "LogisticRegression()\n",
      "\taccuracy_score 0.9928086701104021\n",
      "\tf1_score 0.992899346971247\n",
      "\trecall_score 0.9958667809945126\n",
      "<================>\n"
     ]
    }
   ],
   "source": [
    "models = [\n",
    "    KNeighborsClassifier(),\n",
    "    RandomForestClassifier(),\n",
    "    LogisticRegression()\n",
    "]\n",
    "for model in models:\n",
    "    print(str(model))\n",
    "    # pipeline\n",
    "    pipe = Pipeline([(\"vect\", CountVectorizer()),(\"tfidf\", TfidfTransformer()),(\"clf\", model)])\n",
    "    # classification\n",
    "    text_clf = pipe.fit(X_train, y_train)\n",
    "    pred = text_clf.predict(X_test)\n",
    "    # metrics\n",
    "    print(\"\\taccuracy_score\", accuracy_score(pred, y_test))\n",
    "    print(\"\\tf1_score\", f1_score(pred, y_test, average=\"weighted\"))\n",
    "    print(\"\\trecall_score\", recall_score(pred, y_test, average=\"macro\"))\n",
    "    print(\"<================>\")"
   ]
  },
  {
   "cell_type": "markdown",
   "id": "e7801ec2",
   "metadata": {},
   "source": [
    "Как мы видим, классификаторы уже выдают довольно хорошие результаты на таком разбиении данных\n",
    "\n",
    "Ниже будет пояснение к процессу к данному моделирования и улучшение результатов"
   ]
  },
  {
   "cell_type": "markdown",
   "id": "778add83",
   "metadata": {},
   "source": [
    "## Вывод:\n",
    "- разбили данные на тренировучную и тестовую выборки наиболее оптимальным образом, используя только текст обращения и целевую переменную\n",
    "- посмотрели как классификаторы будут работать при таком разбиении"
   ]
  },
  {
   "cell_type": "markdown",
   "id": "86e36bcd",
   "metadata": {},
   "source": [
    "# 4.2. Создание дополнительных признаков"
   ]
  },
  {
   "cell_type": "markdown",
   "id": "bc223e4d",
   "metadata": {},
   "source": [
    "## Сейчас нам будет необходимо:\n",
    "- добавить новые атрибуты для улушения точности работы алгоритмов\n",
    "\n",
    "Для добавления новых признаков мы будем использовать тематическое моделирование с помощью NMF, проделанное в прошлой сессии"
   ]
  },
  {
   "cell_type": "code",
   "execution_count": 13,
   "id": "41851edb",
   "metadata": {},
   "outputs": [],
   "source": [
    "#векторизация\n",
    "tfidf_vect = TfidfVectorizer()\n",
    "doc_term_matrix = tfidf_vect.fit_transform(df['petition_text'].values.astype('U'))\n",
    "\n",
    "#создание матрицы и моделирование тем\n",
    "nmf = NMF(n_components=15, random_state=0)\n",
    "nmf.fit(doc_term_matrix )\n",
    "\n",
    "#создание колонки topic, где будут храниться номера тем\n",
    "topic_values = nmf.transform(doc_term_matrix)\n",
    "df['topic'] = topic_values.argmax(axis=1)"
   ]
  },
  {
   "cell_type": "markdown",
   "id": "55fd9aea",
   "metadata": {},
   "source": [
    "## Вывод:\n",
    "На данном этапе с помошью тематического моделирования мы создали новый атрибут, который сделает работу алгоритма более точной"
   ]
  },
  {
   "cell_type": "markdown",
   "id": "2918b29b",
   "metadata": {},
   "source": [
    "# 4.3. Классификация обращений граждан по категориям обращений"
   ]
  },
  {
   "cell_type": "markdown",
   "id": "07910b88",
   "metadata": {},
   "source": [
    "## На данном этапе нам необходимо:\n",
    "- Провести обучение выбранной модели на обучающей выборке, сформированной в предыдущей сессии\n",
    "- Протестировать работу обученной модели на тестовой выборке\n",
    "- Определить показатели точности работы выбранной модели и сравнить их сравните с остальными рассматриваемыми моделями"
   ]
  },
  {
   "cell_type": "markdown",
   "id": "6c0e3805",
   "metadata": {},
   "source": [
    "Сейчас при разбиении на тренировочную и тестовую выборку мы уже будем использовать перегруппированные в начале сессии данные"
   ]
  },
  {
   "cell_type": "code",
   "execution_count": 9,
   "id": "c0b8bd40",
   "metadata": {},
   "outputs": [],
   "source": [
    "X_train, X_test, y_train, y_test = train_test_split(df['total_w'], df[\"category_petition\"], test_size=0.33, stratify = df[\"category_petition\"])"
   ]
  },
  {
   "cell_type": "markdown",
   "id": "6bf21ab9",
   "metadata": {},
   "source": [
    "# Моделирование\n",
    "\n",
    "## Для классификации выбраны:\n",
    "- `KNeighborsClassifier` - метод k-ближайших соседей\n",
    "- `RandomForestClassifier` - дерево решений\n",
    "- `LogisticRegression` - линейная модель классификации\n",
    "\n",
    "\n",
    "## Для оценки классификации мы возьмем следущие метрики:\n",
    "1. `accuracy_score` - классификационная оценка точности\n",
    "2. `f1_score` - среднее гармоническое между точностью и ответом\n",
    "3. `recall_score` - это отношение количества истинных положительных результатов и количества ложных отрицательных результатов\n",
    "\n",
    "\n",
    "Для всего этого мы будем использовать конструкцию Pipeline([(\"vect\", CountVectorizer()),(\"tfidf\", TfidfTransformer()),(\"clf\", model)]), что позволит нам сразу применить к данныем необходимы методы:\n",
    "\n",
    "- `CountVectorizer` (Векторизацию)\n",
    "- `TfidfTransformer` (Нормализацию полученой матрицы)\n",
    "- `model` (Нашу модель)\n"
   ]
  },
  {
   "cell_type": "code",
   "execution_count": 40,
   "id": "9fb049e8",
   "metadata": {},
   "outputs": [
    {
     "name": "stdout",
     "output_type": "stream",
     "text": [
      "KNeighborsClassifier()\n",
      "\taccuracy_score 0.916033627063709\n",
      "\tf1_score 0.917080861445132\n",
      "\trecall_score 0.9100218979665226\n",
      "<================>\n",
      "RandomForestClassifier()\n",
      "\taccuracy_score 0.9993922819811607\n",
      "\tf1_score 0.9993941751151553\n",
      "\trecall_score 0.9996709848149591\n",
      "<================>\n",
      "LogisticRegression()\n",
      "\taccuracy_score 0.9924541679327459\n",
      "\tf1_score 0.9925604668383314\n",
      "\trecall_score 0.9957384817504124\n",
      "<================>\n"
     ]
    }
   ],
   "source": [
    "models = [\n",
    "    KNeighborsClassifier(),\n",
    "    RandomForestClassifier(),\n",
    "    LogisticRegression()\n",
    "]\n",
    "# result dataframe\n",
    "res =pd.DataFrame()\n",
    "for model in models:\n",
    "    tmp={}\n",
    "    print(str(model))\n",
    "    tmp[\"model\"] = str(model)\n",
    "    # pipeline\n",
    "    pipe = Pipeline([(\"vect\", CountVectorizer()),(\"tfidf\", TfidfTransformer()),(\"clf\", model)])\n",
    "    # classification\n",
    "    text_clf = pipe.fit(X_train, y_train)\n",
    "    pred = text_clf.predict(X_test)\n",
    "    # metrics\n",
    "    print(\"\\taccuracy_score\", accuracy_score(pred, y_test))\n",
    "    print(\"\\tf1_score\", f1_score(pred, y_test, average=\"weighted\"))\n",
    "    print(\"\\trecall_score\", recall_score(pred, y_test, average=\"macro\"))\n",
    "    tmp[\"accuracy_score\"] = accuracy_score(pred, y_test)\n",
    "    tmp[\"f1_score\"] = f1_score(pred, y_test, average=\"weighted\")\n",
    "    tmp[\"recall_score\"] = recall_score(pred, y_test, average=\"macro\")\n",
    "    res = res.append(tmp, ignore_index=True)\n",
    "    print(\"<================>\")"
   ]
  },
  {
   "cell_type": "code",
   "execution_count": 51,
   "id": "9a10233d",
   "metadata": {},
   "outputs": [
    {
     "data": {
      "text/plain": [
       "<AxesSubplot:xlabel='model'>"
      ]
     },
     "execution_count": 51,
     "metadata": {},
     "output_type": "execute_result"
    },
    {
     "data": {
      "image/png": "[encoded data removed]",
      "text/plain": [
       "<Figure size 1080x864 with 1 Axes>"
      ]
     },
     "metadata": {
      "needs_background": "light"
     },
     "output_type": "display_data"
    }
   ],
   "source": [
    "res.index = res.model\n",
    "res = res.drop([\"model\"], axis=1)\n",
    "res.plot(figsize=(15,12))"
   ]
  },
  {
   "cell_type": "markdown",
   "id": "fdfba2cb",
   "metadata": {},
   "source": [
    "На данный момент RandomForestClassifier показывает наилучший результат, далее попробуем его сделать еще лучше"
   ]
  },
  {
   "cell_type": "markdown",
   "id": "049772ed",
   "metadata": {},
   "source": [
    "# Подбор гиперпараметров"
   ]
  },
  {
   "cell_type": "markdown",
   "id": "4e95f503",
   "metadata": {},
   "source": [
    "Добитьтся более точной работы модели можно также с помощью побора гиперпараметров, используя GridSearchCV. Он находит наилучшие параметры, путем обычного перебора: он создает модель для каждой возможной комбинации параметров\n",
    "\n",
    "Для начала преобразуем данные для более корректного и точного определения гиперпараметров"
   ]
  },
  {
   "cell_type": "code",
   "execution_count": 79,
   "id": "38f4d732",
   "metadata": {},
   "outputs": [],
   "source": [
    "#векторизируем наши данные\n",
    "vect = CountVectorizer().fit(X_train)\n",
    "X_train = vect.transform(X_train)\n",
    "#нормализация\n",
    "tfidf = TfidfTransformer()\n",
    "X_train = tfidf.fit_transform(X_train)"
   ]
  },
  {
   "cell_type": "markdown",
   "id": "8615f35d",
   "metadata": {},
   "source": [
    "Будем использовать GridSearchCV для каждой модели и покажем следущие результаты:\n",
    "- `best score` - наилучший результ работы модели во время перекрестной проверки (будет использована метрика 'accuracy')\n",
    "- `best model` - параметры модели, которая и показала наилучший результат при своей работе"
   ]
  },
  {
   "cell_type": "markdown",
   "id": "522fede9",
   "metadata": {},
   "source": [
    "### KNeighborsClassifier"
   ]
  },
  {
   "cell_type": "code",
   "execution_count": 80,
   "id": "bc8073ab",
   "metadata": {},
   "outputs": [],
   "source": [
    "#параметры\n",
    "model = KNeighborsClassifier()\n",
    "param_search = { \n",
    "    'n_neighbors': [5,10,15,20],\n",
    "    'weights': ['uniform', 'distance']\n",
    "}\n",
    "\n",
    "#GridSearchCV\n",
    "gsearch = GridSearchCV(estimator=model,  param_grid=param_search, scoring = 'accuracy')\n",
    "gsearch.fit(X_train, y_train)\n",
    "best_score = gsearch.best_score_\n",
    "best_model = gsearch.best_estimator_"
   ]
  },
  {
   "cell_type": "code",
   "execution_count": 81,
   "id": "36b741af",
   "metadata": {},
   "outputs": [
    {
     "data": {
      "text/plain": [
       "0.9593154799231977"
      ]
     },
     "execution_count": 81,
     "metadata": {},
     "output_type": "execute_result"
    }
   ],
   "source": [
    "best_score"
   ]
  },
  {
   "cell_type": "code",
   "execution_count": 84,
   "id": "6e9911e8",
   "metadata": {},
   "outputs": [
    {
     "data": {
      "text/plain": [
       "KNeighborsClassifier(weights='distance')"
      ]
     },
     "execution_count": 84,
     "metadata": {},
     "output_type": "execute_result"
    }
   ],
   "source": [
    "best_model"
   ]
  },
  {
   "cell_type": "markdown",
   "id": "810ea671",
   "metadata": {},
   "source": [
    "### RandomForestClassifier"
   ]
  },
  {
   "cell_type": "code",
   "execution_count": 85,
   "id": "af9ae088",
   "metadata": {},
   "outputs": [],
   "source": [
    "#параметры\n",
    "model = RandomForestClassifier()\n",
    "param_search = { \n",
    "    'n_estimators': [20, 50, 100],\n",
    "    'criterion': ['gini', 'entropy', 'log_loss'],\n",
    "    'max_depth' : [i for i in range(5,15)]\n",
    "}\n",
    "\n",
    "#GridSearchCV\n",
    "gsearch = GridSearchCV(estimator=model, cv=5, param_grid=param_search, scoring = 'accuracy')\n",
    "gsearch.fit(X_train, y_train)\n",
    "best_score = gsearch.best_score_\n",
    "best_model = gsearch.best_estimator_"
   ]
  },
  {
   "cell_type": "code",
   "execution_count": 86,
   "id": "8fee956d",
   "metadata": {},
   "outputs": [
    {
     "data": {
      "text/plain": [
       "0.8852556769098143"
      ]
     },
     "execution_count": 86,
     "metadata": {},
     "output_type": "execute_result"
    }
   ],
   "source": [
    "best_score"
   ]
  },
  {
   "cell_type": "code",
   "execution_count": 87,
   "id": "a2f6a65c",
   "metadata": {},
   "outputs": [
    {
     "data": {
      "text/plain": [
       "RandomForestClassifier(max_depth=14, n_estimators=50)"
      ]
     },
     "execution_count": 87,
     "metadata": {},
     "output_type": "execute_result"
    }
   ],
   "source": [
    "best_model"
   ]
  },
  {
   "cell_type": "markdown",
   "id": "00b78ae2",
   "metadata": {},
   "source": [
    "### LogisticRegression"
   ]
  },
  {
   "cell_type": "code",
   "execution_count": 88,
   "id": "b0017030",
   "metadata": {},
   "outputs": [],
   "source": [
    "#параметры\n",
    "model = LogisticRegression()\n",
    "param_search = { \n",
    "    'penalty': ['l1', 'l2', 'lasticnet', 'none'],\n",
    "    'solver': ['newton-cg', 'lbfgs', 'liblinear', 'sag', 'saga']\n",
    "}\n",
    "\n",
    "#GridSearchCV\n",
    "gsearch = GridSearchCV(estimator=model, cv=5, param_grid=param_search, scoring = 'accuracy')\n",
    "gsearch.fit(X_train, y_train)\n",
    "best_score = gsearch.best_score_\n",
    "best_model = gsearch.best_estimator_"
   ]
  },
  {
   "cell_type": "code",
   "execution_count": 89,
   "id": "d8b5ab1a",
   "metadata": {},
   "outputs": [
    {
     "data": {
      "text/plain": [
       "0.9994512191650115"
      ]
     },
     "execution_count": 89,
     "metadata": {},
     "output_type": "execute_result"
    }
   ],
   "source": [
    "best_score"
   ]
  },
  {
   "cell_type": "code",
   "execution_count": 90,
   "id": "c794c2f5",
   "metadata": {},
   "outputs": [
    {
     "data": {
      "text/plain": [
       "LogisticRegression(penalty='l1', solver='liblinear')"
      ]
     },
     "execution_count": 90,
     "metadata": {},
     "output_type": "execute_result"
    }
   ],
   "source": [
    "best_model"
   ]
  },
  {
   "cell_type": "markdown",
   "id": "294f702d",
   "metadata": {},
   "source": [
    "Далее по полученным гиперпараметрам посмотрим на новые результаты"
   ]
  },
  {
   "cell_type": "code",
   "execution_count": 16,
   "id": "dbcb17ee",
   "metadata": {},
   "outputs": [
    {
     "name": "stdout",
     "output_type": "stream",
     "text": [
      "KNeighborsClassifier(weights='distance')\n",
      "\taccuracy_score 0.9205408690367669\n",
      "\tf1_score 0.9213786372082922\n",
      "\trecall_score 0.9075375624200481\n",
      "<================>\n",
      "RandomForestClassifier(max_depth=14, n_estimators=50)\n",
      "\taccuracy_score 0.8602248556669705\n",
      "\tf1_score 0.8882417981265861\n",
      "\trecall_score 0.6534881024510935\n",
      "<================>\n",
      "LogisticRegression(penalty='l1', solver='liblinear')\n",
      "\taccuracy_score 0.9979742732705358\n",
      "\tf1_score 0.9979868035374011\n",
      "\trecall_score 0.9994792404024276\n",
      "<================>\n"
     ]
    }
   ],
   "source": [
    "models = [\n",
    "    KNeighborsClassifier(weights='distance'),\n",
    "    RandomForestClassifier(max_depth=14, n_estimators=50),\n",
    "    LogisticRegression(penalty='l1', solver='liblinear')\n",
    "]\n",
    "# result dataframe\n",
    "res =pd.DataFrame()\n",
    "for model in models:\n",
    "    tmp={}\n",
    "    print(str(model))\n",
    "    tmp[\"model\"] = str(model)\n",
    "    # pipeline\n",
    "    pipe = Pipeline([(\"vect\", CountVectorizer()),(\"tfidf\", TfidfTransformer()),(\"clf\", model)])\n",
    "    # classification\n",
    "    text_clf = pipe.fit(X_train, y_train)\n",
    "    pred = text_clf.predict(X_test)\n",
    "    # metrics\n",
    "    print(\"\\taccuracy_score\", accuracy_score(pred, y_test))\n",
    "    print(\"\\tf1_score\", f1_score(pred, y_test, average=\"weighted\"))\n",
    "    print(\"\\trecall_score\", recall_score(pred, y_test, average=\"macro\"))\n",
    "    tmp[\"accuracy_score\"] = accuracy_score(pred, y_test)\n",
    "    tmp[\"f1_score\"] = f1_score(pred, y_test, average=\"weighted\")\n",
    "    tmp[\"recall_score\"] = recall_score(pred, y_test, average=\"macro\")\n",
    "    res = res.append(tmp, ignore_index=True)\n",
    "    print(\"<================>\")"
   ]
  },
  {
   "cell_type": "markdown",
   "id": "76217631",
   "metadata": {},
   "source": [
    "С гиперпараметрами RandomForestClassifier показал результаты хуже чем без них, это у других моделей показатели значительно улучшились. Тем не менее для дальнейшей работы оставим RandomForestClassifier без учета гиперпараметров, так как он показал лучший результат по сравнению с другими моделями"
   ]
  },
  {
   "cell_type": "code",
   "execution_count": 15,
   "id": "bd35400d",
   "metadata": {},
   "outputs": [],
   "source": [
    "# сохранение выбранной модели\n",
    "model = Pipeline([(\"vect\", CountVectorizer()),\n",
    "                  (\"tfidf\", TfidfTransformer()),\n",
    "                  (\"clf\", RandomForestClassifier())])\n",
    "text_clf = pipe.fit(X_train, y_train)\n",
    "\n",
    "# Saving as pkl file\n",
    "pkl_filename = \"model.pkl\"\n",
    "with open(pkl_filename, 'wb') as file:\n",
    "    pickle.dump(text_clf, file)"
   ]
  },
  {
   "cell_type": "markdown",
   "id": "d6295e65",
   "metadata": {},
   "source": [
    "## Вывод:\n",
    "На данном этапе мы:\n",
    "- обучили нашу модель на тестовой выборке\n",
    "- провизуализировали, как работают алгоритмы\n",
    "- подобрали гиперпараметры, тем самым улучшив результаты работы\n",
    "- выбрали модель, которая показала наилучший показатель - RandomForestClassifier"
   ]
  },
  {
   "cell_type": "markdown",
   "id": "f5a51c95",
   "metadata": {},
   "source": [
    "---"
   ]
  },
  {
   "cell_type": "markdown",
   "id": "fbb64556",
   "metadata": {},
   "source": [
    "# Итог:\n",
    "В ходе работы мы выполнили следующее:\n",
    "- разбили данные на тренировочную и тестовую выборки\n",
    "- добавили новые атрибуты\n",
    "- произвели обучение модели\n",
    "- обосновали выбор класссификаторов и метрик\n",
    "- подобрали гиперпараметры\n",
    "- сравнили, какая модель справляется лучше и при каких условиях"
   ]
  },
  {
   "cell_type": "code",
   "execution_count": null,
   "id": "51633cce",
   "metadata": {},
   "outputs": [],
   "source": []
  }
 ],
 "metadata": {
  "kernelspec": {
   "display_name": "Python 3 (ipykernel)",
   "language": "python",
   "name": "python3"
  },
  "language_info": {
   "codemirror_mode": {
    "name": "ipython",
    "version": 3
   },
   "file_extension": ".py",
   "mimetype": "text/x-python",
   "name": "python",
   "nbconvert_exporter": "python",
   "pygments_lexer": "ipython3",
   "version": "3.8.8"
  }
 },
 "nbformat": 4,
 "nbformat_minor": 5
}
