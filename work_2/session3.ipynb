{
 "cells": [
  {
   "cell_type": "code",
   "execution_count": 1,
   "id": "a441b91e",
   "metadata": {},
   "outputs": [],
   "source": [
    "import pandas as pd\n",
    "from sklearn.feature_extraction.text import TfidfTransformer, CountVectorizer\n",
    "from sklearn.model_selection import train_test_split\n",
    "import warnings\n",
    "warnings.filterwarnings(\"ignore\")\n",
    "import re\n",
    "# models\n",
    "from sklearn.neighbors import KNeighborsClassifier\n",
    "from sklearn.ensemble import RandomForestClassifier\n",
    "from sklearn.linear_model import LogisticRegression\n",
    "from sklearn.pipeline import Pipeline\n",
    "from sklearn.metrics import accuracy_score, f1_score, recall_score\n",
    "# saving\n",
    "import pickle"
   ]
  },
  {
   "cell_type": "code",
   "execution_count": 2,
   "id": "afd3110f",
   "metadata": {},
   "outputs": [],
   "source": [
    "df = pd.read_csv('df.csv', index_col=0)"
   ]
  },
  {
   "cell_type": "code",
   "execution_count": 3,
   "id": "a5df5ed2",
   "metadata": {},
   "outputs": [
    {
     "data": {
      "text/html": [
       "<div>\n",
       "<style scoped>\n",
       "    .dataframe tbody tr th:only-of-type {\n",
       "        vertical-align: middle;\n",
       "    }\n",
       "\n",
       "    .dataframe tbody tr th {\n",
       "        vertical-align: top;\n",
       "    }\n",
       "\n",
       "    .dataframe thead th {\n",
       "        text-align: right;\n",
       "    }\n",
       "</style>\n",
       "<table border=\"1\" class=\"dataframe\">\n",
       "  <thead>\n",
       "    <tr style=\"text-align: right;\">\n",
       "      <th></th>\n",
       "      <th>date_reg</th>\n",
       "      <th>adresat</th>\n",
       "      <th>author</th>\n",
       "      <th>content</th>\n",
       "      <th>organization_author</th>\n",
       "    </tr>\n",
       "  </thead>\n",
       "  <tbody>\n",
       "    <tr>\n",
       "      <th>0</th>\n",
       "      <td>09.04.2019</td>\n",
       "      <td>Уразов Р.Н.</td>\n",
       "      <td>Антонова С.В.</td>\n",
       "      <td>возможность использование сетевой издание инфо...</td>\n",
       "      <td>АО  Интерфакс</td>\n",
       "    </tr>\n",
       "    <tr>\n",
       "      <th>1</th>\n",
       "      <td>09.04.2019</td>\n",
       "      <td>Уразов Р.Н.</td>\n",
       "      <td>Картошкин С.А.</td>\n",
       "      <td>участие совещание вопрос доработка фэо предост...</td>\n",
       "      <td>Министерство просвещения Российской Федерации</td>\n",
       "    </tr>\n",
       "    <tr>\n",
       "      <th>2</th>\n",
       "      <td>09.04.2019</td>\n",
       "      <td>Уразов Р.Н.</td>\n",
       "      <td>Цивилев С.Е.</td>\n",
       "      <td>командирование саликов глушко далее участие за...</td>\n",
       "      <td>Администрация Кемеровской области</td>\n",
       "    </tr>\n",
       "    <tr>\n",
       "      <th>3</th>\n",
       "      <td>09.04.2019</td>\n",
       "      <td>Иванюк Л.А.</td>\n",
       "      <td>Волков Г.А.</td>\n",
       "      <td>участие чемпионат профессиональный мастерство ...</td>\n",
       "      <td>Министерство транспорта Российской Федерации</td>\n",
       "    </tr>\n",
       "    <tr>\n",
       "      <th>4</th>\n",
       "      <td>09.04.2019</td>\n",
       "      <td>Уразов Р.Н.</td>\n",
       "      <td>Атанов И.В.</td>\n",
       "      <td>участие церемония открытие вузовский чемпионат...</td>\n",
       "      <td>Ставропольский государственный аграрный унив...</td>\n",
       "    </tr>\n",
       "  </tbody>\n",
       "</table>\n",
       "</div>"
      ],
      "text/plain": [
       "     date_reg      adresat           author  \\\n",
       "0  09.04.2019  Уразов Р.Н.   Антонова С.В.    \n",
       "1  09.04.2019  Уразов Р.Н.  Картошкин С.А.    \n",
       "2  09.04.2019  Уразов Р.Н.    Цивилев С.Е.    \n",
       "3  09.04.2019  Иванюк Л.А.     Волков Г.А.    \n",
       "4  09.04.2019  Уразов Р.Н.     Атанов И.В.    \n",
       "\n",
       "                                             content  \\\n",
       "0  возможность использование сетевой издание инфо...   \n",
       "1  участие совещание вопрос доработка фэо предост...   \n",
       "2  командирование саликов глушко далее участие за...   \n",
       "3  участие чемпионат профессиональный мастерство ...   \n",
       "4  участие церемония открытие вузовский чемпионат...   \n",
       "\n",
       "                                 organization_author  \n",
       "0                                   АО  Интерфакс     \n",
       "1    Министерство просвещения Российской Федерации    \n",
       "2                Администрация Кемеровской области    \n",
       "3     Министерство транспорта Российской Федерации    \n",
       "4    Ставропольский государственный аграрный унив...  "
      ]
     },
     "execution_count": 3,
     "metadata": {},
     "output_type": "execute_result"
    }
   ],
   "source": [
    "df.head()"
   ]
  },
  {
   "cell_type": "code",
   "execution_count": 4,
   "id": "dc1c5abc",
   "metadata": {},
   "outputs": [],
   "source": [
    "df['date_reg'] = pd.to_datetime(df['date_reg'])"
   ]
  },
  {
   "cell_type": "code",
   "execution_count": 5,
   "id": "b7efbeb2",
   "metadata": {},
   "outputs": [],
   "source": [
    "df['date_reg'] = df['date_reg'].dt.to_period('M')"
   ]
  },
  {
   "cell_type": "markdown",
   "id": "bda7b3b1",
   "metadata": {},
   "source": [
    "---"
   ]
  },
  {
   "cell_type": "markdown",
   "id": "8e4acb21",
   "metadata": {},
   "source": [
    "# 3.1 Обучение"
   ]
  },
  {
   "cell_type": "markdown",
   "id": "3892b68a",
   "metadata": {},
   "source": [
    "## На данном этапе на необходимо:\n",
    "- Провести обучение выбранной модели на обучающей выборке, сформированной в предыдущей сессии\n",
    "- Протестировать работу обученной модели на тестовой выборке\n",
    "- Определить показатели точности работы выбранной модели и сравнить их сравните с остальными рассматриваемыми моделями."
   ]
  },
  {
   "cell_type": "markdown",
   "id": "df719a50",
   "metadata": {},
   "source": [
    "## Для оценки классификации мы возьмем следущие метрики:\n",
    "1. `accuracy_score` - классификационная оценка точности\n",
    "2. `f1_score` - среднее гармоническое между точностью и ответом\n",
    "3. `recall_score` - это отношение количества истинных положительных результатов и количества ложных отрицательных результатов"
   ]
  },
  {
   "cell_type": "markdown",
   "id": "7ddd24f7",
   "metadata": {},
   "source": [
    "Для начала объединим в отдельную колонку данные с датой, текстом и организаций для последущего разделения на тестовую и обучающую выборки. В предыдущей сессии мы использовали только содержание документа, поэтому посмотрим, улучшатся ли показатели"
   ]
  },
  {
   "cell_type": "code",
   "execution_count": 6,
   "id": "a56ddf99",
   "metadata": {},
   "outputs": [],
   "source": [
    "tmp = []\n",
    "for i in range(len(df)):\n",
    "    tmp.append(str(df.iloc[i]['date_reg'])  + ' ' + df.iloc[i]['content'] + ' ' + df.iloc[i]['organization_author'])"
   ]
  },
  {
   "cell_type": "markdown",
   "id": "084787d1",
   "metadata": {},
   "source": [
    "Назовем новую колонку total, именно она и будет далее использована при разбиении на выборки"
   ]
  },
  {
   "cell_type": "code",
   "execution_count": 7,
   "id": "d59edc7f",
   "metadata": {},
   "outputs": [],
   "source": [
    "df['total'] = tmp"
   ]
  },
  {
   "cell_type": "code",
   "execution_count": 61,
   "id": "3081a4ff",
   "metadata": {},
   "outputs": [],
   "source": [
    "X_train, X_test, y_train, y_test = train_test_split(df['total'], df['adresat'], test_size=0.33)"
   ]
  },
  {
   "cell_type": "markdown",
   "id": "6b818bb4",
   "metadata": {},
   "source": [
    "Обучаем наши данные (работа данного метода была описана в предыдущей сессии)"
   ]
  },
  {
   "cell_type": "code",
   "execution_count": 62,
   "id": "dd875938",
   "metadata": {},
   "outputs": [
    {
     "name": "stdout",
     "output_type": "stream",
     "text": [
      "KNeighborsClassifier()\n",
      "\taccuracy_score 0.6573170731707317\n",
      "\tf1_score 0.6846690121730787\n",
      "\trecall_score 0.16197260768395785\n",
      "RandomForestClassifier()\n",
      "\taccuracy_score 0.7060975609756097\n",
      "\tf1_score 0.7422462599457889\n",
      "\trecall_score 0.20674706172432222\n",
      "LogisticRegression()\n",
      "\taccuracy_score 0.6695121951219513\n",
      "\tf1_score 0.7252424578727685\n",
      "\trecall_score 0.11187463406401552\n"
     ]
    }
   ],
   "source": [
    "models = [\n",
    "    KNeighborsClassifier(),\n",
    "    RandomForestClassifier(),\n",
    "    LogisticRegression()\n",
    "]\n",
    "for model in models:\n",
    "    print(str(model))\n",
    "    pipe = Pipeline([('vect', CountVectorizer()), ('tfidf', TfidfTransformer()), ('clf', model)])\n",
    "    text_clf = pipe.fit(X_train, y_train)\n",
    "    pred = text_clf.predict(X_test)\n",
    "    print('\\taccuracy_score', accuracy_score(pred, y_test))\n",
    "    print('\\tf1_score', f1_score(pred, y_test, average='weighted'))\n",
    "    print('\\trecall_score', recall_score(pred, y_test, average='macro'))"
   ]
  },
  {
   "cell_type": "markdown",
   "id": "a36ef761",
   "metadata": {},
   "source": [
    "Как мы видим, показатели стали незначительно, но лучше, чем в предыдущей сессии. Лучше всего себя показала модель RandomForestClassifier()"
   ]
  },
  {
   "cell_type": "markdown",
   "id": "ca7ff42d",
   "metadata": {},
   "source": [
    "# 3.2 Feature Engineering"
   ]
  },
  {
   "cell_type": "markdown",
   "id": "cc4dc37d",
   "metadata": {},
   "source": [
    "Сейчас нам необходимо улучшить наши показатели путем добавления новых атрибутов или же любым другим методом, который поможет добиться более точной работы модели"
   ]
  },
  {
   "cell_type": "markdown",
   "id": "30f55e35",
   "metadata": {},
   "source": [
    "## Добавление атрибута с помощью тематического моделирования содержания документа"
   ]
  },
  {
   "cell_type": "markdown",
   "id": "683f27c1",
   "metadata": {},
   "source": [
    "- Тематическое моделирование — это способ семантического анализа коллекции текстовых документов. Тематическая модель позволяет для каждого документа найти темы, которые его описывают, и кроме того показывает, какие слова характеризуют ту или иную тему"
   ]
  },
  {
   "cell_type": "markdown",
   "id": "29fb877f",
   "metadata": {},
   "source": [
    "Сделаем это с помощью неотрицательная матричная факторизации, то есть NMF"
   ]
  },
  {
   "cell_type": "code",
   "execution_count": 13,
   "id": "0eb16619",
   "metadata": {},
   "outputs": [],
   "source": [
    "#векторизируем наш текст\n",
    "from sklearn.feature_extraction.text import TfidfVectorizer\n",
    "tfidf_vect = TfidfVectorizer()\n",
    "doc_term_matrix = tfidf_vect.fit_transform(df['content'].values.astype('U'))\n",
    "from sklearn.decomposition import NMF\n",
    "\n",
    "nmf = NMF(n_components=18, random_state=0)\n",
    "nmf.fit(doc_term_matrix )\n",
    "\n",
    "#присваиваем каждой теме номер, который относится к специализации адресата и добавляем его в столбец\n",
    "topic_values = nmf.transform(doc_term_matrix)\n",
    "df['topic'] = topic_values.argmax(axis=1)"
   ]
  },
  {
   "cell_type": "markdown",
   "id": "cd3132ff",
   "metadata": {},
   "source": [
    "## Подбор гипермараметров для улучшения результатов обученяи модели"
   ]
  },
  {
   "cell_type": "markdown",
   "id": "2c9f3fa4",
   "metadata": {},
   "source": [
    "Добитьтся более точной работы модели можно также с помощью побора гиперпараметров, используя GridSearchCV. Он находит наилучшие параметры, путем обычного перебора: он создает модель для каждой возможной комбинации параметров"
   ]
  },
  {
   "cell_type": "markdown",
   "id": "4af89dcf",
   "metadata": {},
   "source": [
    "Для начала преобразуем данные для более корректного и точного определения гиперпараметров"
   ]
  },
  {
   "cell_type": "code",
   "execution_count": 73,
   "id": "1b5e0876",
   "metadata": {},
   "outputs": [],
   "source": [
    "#векторизируем наши данные\n",
    "vect = CountVectorizer().fit(X_train)\n",
    "X_train = vect.transform(X_train)\n",
    "#нормализация\n",
    "tfidf = TfidfTransformer()\n",
    "X_train = tfidf.fit_transform(X_train)"
   ]
  },
  {
   "cell_type": "markdown",
   "id": "649f0359",
   "metadata": {},
   "source": [
    "Будем использовать GridSearchCV для каждой модели и покажем следущие результаты:\n",
    "- `best score` - наилучший результ работы модели во время перекрестной проверки (будет использована метрика 'accuracy')\n",
    "- `best model` - параметры модели, которая и показала наилучший результат при своей работе"
   ]
  },
  {
   "cell_type": "markdown",
   "id": "e457d990",
   "metadata": {},
   "source": [
    "### KNeighborsClassifier"
   ]
  },
  {
   "cell_type": "code",
   "execution_count": 64,
   "id": "3f191e69",
   "metadata": {},
   "outputs": [
    {
     "name": "stdout",
     "output_type": "stream",
     "text": [
      "best score:  0.6789880105669579\n",
      "best model:  KNeighborsClassifier(n_neighbors=10, weights='distance')\n"
     ]
    }
   ],
   "source": [
    "from sklearn.model_selection import GridSearchCV\n",
    "model = KNeighborsClassifier()\n",
    "param_search = { \n",
    "    'n_neighbors': [5,10,15,20],\n",
    "    'weights': ['uniform', 'distance'],\n",
    "    'metric' : ['minkowski','euclidean','manhattan']\n",
    "}\n",
    "\n",
    "\n",
    "gsearch = GridSearchCV(estimator=model,  param_grid=param_search, scoring = 'accuracy')\n",
    "gsearch.fit(X_train, y_train)\n",
    "best_score = gsearch.best_score_\n",
    "best_model = gsearch.best_estimator_\n",
    "print('best score: ', best_score)\n",
    "print('best model: ', best_model)"
   ]
  },
  {
   "cell_type": "markdown",
   "id": "54ab41b7",
   "metadata": {},
   "source": [
    "### RandomForestClassifier"
   ]
  },
  {
   "cell_type": "code",
   "execution_count": 74,
   "id": "9cea2c85",
   "metadata": {},
   "outputs": [
    {
     "name": "stdout",
     "output_type": "stream",
     "text": [
      "best score:  0.6904070988281514\n",
      "best model:  RandomForestClassifier(max_depth=46)\n"
     ]
    }
   ],
   "source": [
    "model = RandomForestClassifier()\n",
    "param_search = { \n",
    "    'n_estimators': [20, 50, 100],\n",
    "    'criterion': ['gini', 'entropy', 'log_loss'],\n",
    "    'max_depth' : [i for i in range(5,50)]\n",
    "}\n",
    "\n",
    "gsearch = GridSearchCV(estimator=model, cv=5, param_grid=param_search, scoring = 'accuracy')\n",
    "gsearch.fit(X_train, y_train)\n",
    "best_score = gsearch.best_score_\n",
    "best_model = gsearch.best_estimator_\n",
    "print('best score: ', best_score)\n",
    "print('best model: ', best_model)"
   ]
  },
  {
   "cell_type": "markdown",
   "id": "5627eb29",
   "metadata": {},
   "source": [
    "при подборе гиперпараметров данной модели, показатели значительно ухудшились, поэтому в конечном сравнении работы разных алгоритмов мы не будем использовать эти гиперпараметры"
   ]
  },
  {
   "cell_type": "markdown",
   "id": "8f42a32e",
   "metadata": {},
   "source": [
    "### LogisticRegression"
   ]
  },
  {
   "cell_type": "code",
   "execution_count": 66,
   "id": "47bbf1b8",
   "metadata": {},
   "outputs": [
    {
     "name": "stdout",
     "output_type": "stream",
     "text": [
      "best score:  0.7024380771749194\n",
      "best model:  LogisticRegression(penalty='none', solver='saga')\n"
     ]
    }
   ],
   "source": [
    "model = LogisticRegression()\n",
    "param_search = { \n",
    "    'penalty': ['l1', 'l2', 'lasticnet', 'none'],\n",
    "    'solver': ['newton-cg', 'lbfgs', 'liblinear', 'sag', 'saga']\n",
    "}\n",
    "\n",
    "gsearch = GridSearchCV(estimator=model, cv=5, param_grid=param_search, scoring = 'accuracy')\n",
    "gsearch.fit(X_train, y_train)\n",
    "best_score = gsearch.best_score_\n",
    "best_model = gsearch.best_estimator_\n",
    "print('best score: ', best_score)\n",
    "print('best model: ', best_model)"
   ]
  },
  {
   "cell_type": "markdown",
   "id": "2b6e2861",
   "metadata": {},
   "source": [
    "У KNeighborsClassifier и LogisticRegression же результаты работы стали точнее, поэтому их гиперпараметры мы далее используем"
   ]
  },
  {
   "cell_type": "markdown",
   "id": "ef67cd53",
   "metadata": {},
   "source": [
    "##### Снова разделяем наши данные на выборки и обучаем с полученными гиперпараметрами"
   ]
  },
  {
   "cell_type": "code",
   "execution_count": 11,
   "id": "86d08d06",
   "metadata": {},
   "outputs": [],
   "source": [
    "X_train, X_test, y_train, y_test = train_test_split(df['total'], df['adresat'], test_size=0.33)"
   ]
  },
  {
   "cell_type": "code",
   "execution_count": 12,
   "id": "6b1f845a",
   "metadata": {},
   "outputs": [
    {
     "name": "stdout",
     "output_type": "stream",
     "text": [
      "KNeighborsClassifier(n_neighbors=10, weights='distance')\n",
      "\taccuracy_score 0.6957317073170731\n",
      "\tf1_score 0.7269498588863073\n",
      "\trecall_score 0.18408696225288607\n",
      "<================>\n",
      "RandomForestClassifier()\n",
      "\taccuracy_score 0.7201219512195122\n",
      "\tf1_score 0.7566189046965935\n",
      "\trecall_score 0.21486738687088622\n",
      "<================>\n",
      "LogisticRegression(penalty='none', solver='saga')\n",
      "\taccuracy_score 0.7012195121951219\n",
      "\tf1_score 0.7224726903029121\n",
      "\trecall_score 0.19673892523782865\n",
      "<================>\n"
     ]
    }
   ],
   "source": [
    "models = [\n",
    "    KNeighborsClassifier(n_neighbors=10, weights='distance'),\n",
    "    RandomForestClassifier(),\n",
    "    LogisticRegression(penalty='none', solver='saga')\n",
    "]\n",
    "res =pd.DataFrame()\n",
    "for model in models:\n",
    "    tmp={}\n",
    "    print(str(model))\n",
    "    tmp[\"model\"] = str(model)\n",
    "    # pipeline\n",
    "    pipe = Pipeline([(\"vect\", CountVectorizer()),(\"tfidf\", TfidfTransformer()),(\"clf\", model)])\n",
    "    # classification\n",
    "    text_clf = pipe.fit(X_train, y_train)\n",
    "    pred = text_clf.predict(X_test)\n",
    "    # metrics\n",
    "    print(\"\\taccuracy_score\", accuracy_score(pred, y_test))\n",
    "    print(\"\\tf1_score\", f1_score(pred, y_test, average=\"weighted\"))\n",
    "    print(\"\\trecall_score\", recall_score(pred, y_test, average=\"macro\"))\n",
    "    tmp[\"accuracy_score\"] = accuracy_score(pred, y_test)\n",
    "    tmp[\"f1_score\"] = f1_score(pred, y_test, average=\"weighted\")\n",
    "    tmp[\"recall_score\"] = recall_score(pred, y_test, average=\"macro\")\n",
    "    res = res.append(tmp, ignore_index=True)\n",
    "    print(\"<================>\")"
   ]
  },
  {
   "cell_type": "code",
   "execution_count": 17,
   "id": "9bceda2a",
   "metadata": {},
   "outputs": [],
   "source": [
    "res.index = res.model"
   ]
  },
  {
   "cell_type": "code",
   "execution_count": 18,
   "id": "9e74f18b",
   "metadata": {},
   "outputs": [],
   "source": [
    "res = res.drop([\"model\"], axis=1)"
   ]
  },
  {
   "cell_type": "code",
   "execution_count": 19,
   "id": "a39447a0",
   "metadata": {},
   "outputs": [
    {
     "data": {
      "text/plain": [
       "<AxesSubplot:xlabel='model'>"
      ]
     },
     "execution_count": 19,
     "metadata": {},
     "output_type": "execute_result"
    },
    {
     "data": {
      "image/png": "[encoded data removed]",
      "text/plain": [
       "<Figure size 1080x864 with 1 Axes>"
      ]
     },
     "metadata": {
      "needs_background": "light"
     },
     "output_type": "display_data"
    }
   ],
   "source": [
    "res.plot(figsize=(15,12))"
   ]
  },
  {
   "cell_type": "markdown",
   "id": "5c49e55c",
   "metadata": {},
   "source": [
    "Видим, что модель RandomForestClassifier справилась лучше остальных, поэтому далее ее мы и будем использовать"
   ]
  },
  {
   "cell_type": "code",
   "execution_count": 21,
   "id": "cd1abc16",
   "metadata": {},
   "outputs": [],
   "source": [
    "# model fitting\n",
    "model = Pipeline([(\"vect\", CountVectorizer()),\n",
    "                  (\"tfidf\", TfidfTransformer()),\n",
    "                  (\"clf\", RandomForestClassifier())])\n",
    "text_clf = pipe.fit(X_train, y_train)\n",
    "\n",
    "# Saving as pkl file\n",
    "pkl_filename = \"modell.pkl\"\n",
    "with open(pkl_filename, 'wb') as file:\n",
    "    pickle.dump(text_clf, file)"
   ]
  },
  {
   "cell_type": "code",
   "execution_count": 8,
   "id": "55c4e779",
   "metadata": {},
   "outputs": [],
   "source": [
    "df.to_csv('df.csv')"
   ]
  },
  {
   "cell_type": "code",
   "execution_count": null,
   "id": "340d1ba8",
   "metadata": {},
   "outputs": [],
   "source": []
  }
 ],
 "metadata": {
  "kernelspec": {
   "display_name": "Python 3 (ipykernel)",
   "language": "python",
   "name": "python3"
  },
  "language_info": {
   "codemirror_mode": {
    "name": "ipython",
    "version": 3
   },
   "file_extension": ".py",
   "mimetype": "text/x-python",
   "name": "python",
   "nbconvert_exporter": "python",
   "pygments_lexer": "ipython3",
   "version": "3.8.8"
  }
 },
 "nbformat": 4,
 "nbformat_minor": 5
}
