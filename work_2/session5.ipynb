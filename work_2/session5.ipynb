{
 "cells": [
  {
   "cell_type": "code",
   "execution_count": 1,
   "id": "eb31a5f5",
   "metadata": {},
   "outputs": [],
   "source": [
    "import pickle\n",
    "from sklearn.linear_model import LogisticRegression\n",
    "from sklearn.pipeline import Pipeline\n",
    "import pandas as pd\n",
    "from sklearn.feature_extraction.text import CountVectorizer\n",
    "from sklearn.feature_extraction.text import TfidfTransformer\n",
    "import warnings\n",
    "warnings.filterwarnings(\"ignore\")\n",
    "import re\n",
    "import numpy as np\n",
    "import pdfplumber\n",
    "import pymorphy2"
   ]
  },
  {
   "cell_type": "code",
   "execution_count": 85,
   "id": "b1d6d545",
   "metadata": {},
   "outputs": [],
   "source": [
    "# -*- coding: utf8 -*-\n",
    "\n",
    "import pickle\n",
    "import pandas as pd \n",
    "import re\n",
    "import numpy as np\n",
    "import pdfplumber\n",
    "import pymorphy2\n",
    "from fpdf import FPDF\n",
    "\n",
    "#<============= 5.1 =============>\n",
    "class API():\n",
    "    \"\"\"Class Api Представляет собо совокупность методов, с помощью которых вы можете предсказывать компетенции и определять их категории.\\nТакже для разработчиков существует коррекция результатов и сохранения их для послудующего обучения\n",
    "    \\nМетоды:\n",
    "    print_res(self)\n",
    "    load_model(self, filename = \"model.pkl\")\n",
    "    pdf_text(self, filename)\n",
    "    cleaning(self)\n",
    "    make_pred(self, p_num=1)\n",
    "    correction(self)\n",
    "    input_words_manually(self)\n",
    "    load_correction_dataset(self)\n",
    "    create_correction_dataset(self)\n",
    "    save_results(self)\n",
    "    comp_category(self)\n",
    "    \n",
    "    \"\"\"\n",
    "    \n",
    "    # переменные класса\n",
    "    words = \"\"\n",
    "    model = \"\"\n",
    "    R = []\n",
    "    data = \"\"\n",
    "    comp_cat=[]\n",
    "    \n",
    "    def __init__(self):\n",
    "        pass\n",
    "    \n",
    "    def print_res(self):\n",
    "        \"\"\"printing results\"\"\"\n",
    "        for i in self.R:\n",
    "            print(i)\n",
    "\n",
    "#<============= Функции =============>\n",
    "\n",
    "    def load_model(self, filename = \"model.pkl\"):\n",
    "        \"\"\"Функция загрузки, по умолчанию принемает значение filename = \"model.pkl, если у вас есть другая модель вы можете воспользоваться ею\"\"\"\n",
    "        with open(filename, 'rb') as file:\n",
    "                model = pickle.load(file)\n",
    "        self.model = model \n",
    "    \n",
    "    def pdf_text(self, filename):\n",
    "        \"\"\"Функция чтения вашего резюме, принимает один аргумент filename - имя файла, используется модуль pdfplumber\"\"\"\n",
    "        pdf = pdfplumber.open(filename)\n",
    "        T = []\n",
    "        for i in range(len(pdf.pages)):\n",
    "            try:\n",
    "                page = pdf.pages[i]\n",
    "                T.append(page.extract_text())\n",
    "            except Exception:\n",
    "                continue\n",
    "        pdf.close()\n",
    "        self.words = \" \".join(T)\n",
    "        \n",
    "    def cleaning(self):\n",
    "        \"\"\"Очистка слов от символов, стопслов и лемматизация, используются модули re, pymorph2\"\"\"\n",
    "        words = re.sub('[^a-zA-zа-яА-Я]', ' ', self.words).lower().strip()\n",
    "        stopwords = [\"тд\",\"c\",\"а\",\"алло\",\"без\",\"белый\",\"близко\",\"более\",\"больше\",\"большой\",\"будем\",\"будет\",\"будете\",\"будешь\",\"будто\",\"буду\",\"будут\",\"будь\",\"бы\",\"бывает\",\"бывь\",\"был\",\"была\",\"были\",\"было\",\"быть\",\"в\",\"важная\",\"важное\",\"важные\",\"важный\",\"вам\",\"вами\",\"вас\",\"ваш\",\"ваша\",\"ваше\",\"ваши\",\"вверх\",\"вдали\",\"вдруг\",\"ведь\",\"везде\",\"вернуться\",\"весь\",\"вечер\",\"взгляд\",\"взять\",\"вид\",\"видел\",\"видеть\",\"вместе\",\"вне\",\"вниз\",\"внизу\",\"во\",\"вода\",\"война\",\"вокруг\",\"вон\",\"вообще\",\"вопрос\",\"восемнадцатый\",\"восемнадцать\",\"восемь\",\"восьмой\",\"вот\",\"впрочем\",\"времени\",\"время\",\"все\",\"все еще\",\"всегда\",\"всего\",\"всем\",\"всеми\",\"всему\",\"всех\",\"всею\",\"всю\",\"всюду\",\"вся\",\"всё\",\"второй\",\"вы\",\"выйти\",\"г\",\"где\",\"главный\",\"глаз\",\"говорил\",\"говорит\",\"говорить\",\"год\",\"года\",\"году\",\"голова\",\"голос\",\"город\",\"да\",\"давать\",\"давно\",\"даже\",\"далекий\",\"далеко\",\"дальше\",\"даром\",\"дать\",\"два\",\"двадцатый\",\"двадцать\",\"две\",\"двенадцатый\",\"двенадцать\",\"дверь\",\"двух\",\"девятнадцатый\",\"девятнадцать\",\"девятый\",\"девять\",\"действительно\",\"дел\",\"делал\",\"делать\",\"делаю\",\"дело\",\"день\",\"деньги\",\"десятый\",\"десять\",\"для\",\"до\",\"довольно\",\"долго\",\"должен\",\"должно\",\"должный\",\"дом\",\"дорога\",\"друг\",\"другая\",\"другие\",\"других\",\"друго\",\"другое\",\"другой\",\"думать\",\"душа\",\"е\",\"его\",\"ее\",\"ей\",\"ему\",\"если\",\"есть\",\"еще\",\"ещё\",\"ею\",\"её\",\"ж\",\"ждать\",\"же\",\"жена\",\"женщина\",\"жизнь\",\"жить\",\"за\",\"занят\",\"занята\",\"занято\",\"заняты\",\"затем\",\"зато\",\"зачем\",\"здесь\",\"земля\",\"знать\",\"значит\",\"значить\",\"и\",\"иди\",\"идти\",\"из\",\"или\",\"им\",\"имеет\",\"имел\",\"именно\",\"иметь\",\"ими\",\"имя\",\"иногда\",\"их\",\"к\",\"каждая\",\"каждое\",\"каждые\",\"каждый\",\"кажется\",\"казаться\",\"как\",\"какая\",\"какой\",\"кем\",\"книга\",\"когда\",\"кого\",\"ком\",\"комната\",\"кому\",\"конец\",\"конечно\",\"которая\",\"которого\",\"которой\",\"которые\",\"который\",\"которых\",\"кроме\",\"кругом\",\"кто\",\"куда\",\"лежать\",\"лет\",\"ли\",\"лицо\",\"лишь\",\"лучше\",\"любить\",\"люди\",\"м\",\"маленький\",\"мало\",\"мать\",\"машина\",\"между\",\"меля\",\"менее\",\"меньше\",\"меня\",\"место\",\"миллионов\",\"мимо\",\"минута\",\"мир\",\"мира\",\"мне\",\"много\",\"многочисленная\",\"многочисленное\",\"многочисленные\",\"многочисленный\",\"мной\",\"мною\",\"мог\",\"могу\",\"могут\",\"мож\",\"может\",\"может быть\",\"можно\",\"можхо\",\"мои\",\"мой\",\"мор\",\"москва\",\"мочь\",\"моя\",\"моё\",\"мы\",\"на\",\"наверху\",\"над\",\"надо\",\"назад\",\"наиболее\",\"найти\",\"наконец\",\"нам\",\"нами\",\"народ\",\"нас\",\"начала\",\"начать\",\"наш\",\"наша\",\"наше\",\"наши\",\"не\",\"него\",\"недавно\",\"недалеко\",\"нее\",\"ней\",\"некоторый\",\"нельзя\",\"нем\",\"немного\",\"нему\",\"непрерывно\",\"нередко\",\"несколько\",\"нет\",\"нею\",\"неё\",\"ни\",\"нибудь\",\"ниже\",\"низко\",\"никакой\",\"никогда\",\"никто\",\"никуда\",\"ним\",\"ними\",\"них\",\"ничего\",\"ничто\",\"но\",\"новый\",\"нога\",\"ночь\",\"ну\",\"нужно\",\"нужный\",\"нх\",\"о\",\"об\",\"оба\",\"обычно\",\"один\",\"одиннадцатый\",\"одиннадцать\",\"однажды\",\"однако\",\"одного\",\"одной\",\"оказаться\",\"окно\",\"около\",\"он\",\"она\",\"они\",\"оно\",\"опять\",\"особенно\",\"остаться\",\"от\",\"ответить\",\"отец\",\"откуда\",\"отовсюду\",\"отсюда\",\"очень\",\"первый\",\"перед\",\"писать\",\"плечо\",\"по\",\"под\",\"подойди\",\"подумать\",\"пожалуйста\",\"позже\",\"пойти\",\"пока\",\"пол\",\"получить\",\"помнить\",\"понимать\",\"понять\",\"пор\",\"пора\",\"после\",\"последний\",\"посмотреть\",\"посреди\",\"потом\",\"потому\",\"почему\",\"почти\",\"правда\",\"прекрасно\",\"при\",\"про\",\"просто\",\"против\",\"процентов\",\"путь\",\"пятнадцатый\",\"пятнадцать\",\"пятый\",\"пять\",\"работа\",\"работать\",\"раз\",\"разве\",\"рано\",\"раньше\",\"ребенок\",\"решить\",\"россия\",\"рука\",\"русский\",\"ряд\",\"рядом\",\"с\",\"с кем\",\"сам\",\"сама\",\"сами\",\"самим\",\"самими\",\"самих\",\"само\",\"самого\",\"самой\",\"самом\",\"самому\",\"саму\",\"самый\",\"свет\",\"свое\",\"своего\",\"своей\",\"свои\",\"своих\",\"свой\",\"свою\",\"сделать\",\"сеаой\",\"себе\",\"себя\",\"сегодня\",\"седьмой\",\"сейчас\",\"семнадцатый\",\"семнадцать\",\"семь\",\"сидеть\",\"сила\",\"сих\",\"сказал\",\"сказала\",\"сказать\",\"сколько\",\"слишком\",\"слово\",\"случай\",\"смотреть\",\"сначала\",\"снова\",\"со\",\"собой\",\"собою\",\"советский\",\"совсем\",\"спасибо\",\"спросить\",\"сразу\",\"стал\",\"старый\",\"стать\",\"стол\",\"сторона\",\"стоять\",\"страна\",\"суть\",\"считать\",\"т\",\"та\",\"так\",\"такая\",\"также\",\"таки\",\"такие\",\"такое\",\"такой\",\"там\",\"твои\",\"твой\",\"твоя\",\"твоё\",\"те\",\"тебе\",\"тебя\",\"тем\",\"теми\",\"теперь\",\"тех\",\"то\",\"тобой\",\"тобою\",\"товарищ\",\"тогда\",\"того\",\"тоже\",\"только\",\"том\",\"тому\",\"тот\",\"тою\",\"третий\",\"три\",\"тринадцатый\",\"тринадцать\",\"ту\",\"туда\",\"тут\",\"ты\",\"тысяч\",\"у\",\"увидеть\",\"уж\",\"уже\",\"улица\",\"уметь\",\"утро\",\"хороший\",\"хорошо\",\"хотел бы\",\"хотеть\",\"хоть\",\"хотя\",\"хочешь\",\"час\",\"часто\",\"часть\",\"чаще\",\"чего\",\"человек\",\"чем\",\"чему\",\"через\",\"четвертый\",\"четыре\",\"четырнадцатый\",\"четырнадцать\",\"что\",\"чтоб\",\"чтобы\",\"чуть\",\"шестнадцатый\",\"шестнадцать\",\"шестой\",\"шесть\",\"эта\",\"эти\",\"этим\",\"этими\",\"этих\",\"это\",\"этого\",\"этой\",\"этом\",\"этому\",\"этот\",\"эту\",\"я\",\"являюсь\"]\n",
    "        words = ' '.join([word for word in words.split() if word not in (stopwords)])\n",
    "        morph = pymorphy2.MorphAnalyzer()\n",
    "        words = \" \".join(morph.parse(word)[0].normal_form for word in words.split())\n",
    "        self.words = words\n",
    "        \n",
    "    def make_pred(self, p_num=1):\n",
    "        \"\"\"Функция предикта позволяющая определить одну или несколько компетенций, один аргумент p_num - кол-во предсказания\"\"\"\n",
    "        self.comp_cat=[]\n",
    "        self.R=[]\n",
    "        if p_num==1:\n",
    "            pred = self.model.predict([self.words])\n",
    "            self.R.append(pred)\n",
    "        else:\n",
    "            allpreds = self.model.predict_proba([self.words]).reshape(-1)        \n",
    "            for i in allpreds.argsort()[-p_num:][::-1]:\n",
    "                self.R.append(self.model.classes_[i])\n",
    "                \n",
    "    \n",
    "    #<============= 5.2 =============>\n",
    "\n",
    "    def correction(self):\n",
    "        \"\"\"Функция коррекции результата если пользователю не понравился результат работы программы, результат сохраняется в файл forFutureFitting.csv\"\"\"\n",
    "        try:\n",
    "            self.load_correction_dataset()\n",
    "        except Exception:\n",
    "            self.create_correction_dataset()\n",
    "        \n",
    "        tmp = {}\n",
    "        tmp[\"comp\"] = input(\">>> Введите название компетенции \\n>>> \")\n",
    "        tmp[\"category\"] = input('>>> Введите названия категории(\"блока\") компетенции \\n>>> ')\n",
    "        tmp[\"words\"] = self.words\n",
    "        \n",
    "        self.data = self.data.append(tmp, ignore_index=True)\n",
    "        self.data.to_csv(\"forFutureFitting.csv\")\n",
    "        \n",
    "                \n",
    "    def input_words_manually(self):\n",
    "        \"\"\"Ручной ввод слов\"\"\"\n",
    "        self.words = input(\">>> Введите оприсание своих навыков: \\n>>>\")\n",
    "        \n",
    "    def load_correction_dataset(self):\n",
    "        \"\"\"Загрузка коррекционного датасета\"\"\"\n",
    "        self.data = pd.read_csv(\"forFutureFitting.csv\", index_col=0)\n",
    "        \n",
    "    def create_correction_dataset(self):\n",
    "        \"\"\"Создание коррекционного датасета\"\"\"\n",
    "        pd.DataFrame(columns=[\"words\",\"comp\",\"category\"]).to_csv(\"forFutureFitting.csv\")\n",
    "        self.data = pd.DataFrame(columns=[\"words\",\"comp\",\"category\"])\n",
    "    \n",
    "    def save_results(self, filename):\n",
    "        \"\"\"Функция сохранения результата в pdf файл, аргумет filename - имя файла, используется модуль fpdf\"\"\"\n",
    "        text = \"Категория: \"+ str(self.comp_cat[0]) +\"\\nКомпетенции: \\n\" \n",
    "        for i in self.R:\n",
    "            text = text +\"\\n\"+ str(i)\n",
    "        \n",
    "        \n",
    "        pdf = FPDF()\n",
    "        pdf.add_page()\n",
    "\n",
    "        pdf.add_font('arial', '', 'arial.ttf', uni=True)\n",
    "        pdf.set_font('arial', '', 14)\n",
    "        \n",
    "        for txt in text.split('\\n'):\n",
    "            pdf.write(8, txt)\n",
    "            pdf.ln(8)\n",
    "        pdf.output(filename)"
   ]
  },
  {
   "cell_type": "code",
   "execution_count": 86,
   "id": "962741b9",
   "metadata": {},
   "outputs": [],
   "source": [
    "api = API()"
   ]
  },
  {
   "cell_type": "code",
   "execution_count": 87,
   "id": "7f2901e8",
   "metadata": {},
   "outputs": [
    {
     "name": "stdout",
     "output_type": "stream",
     "text": [
      "Class Api Представляет собо совокупность методов, с помощью которых вы можете предсказывать компетенции и определять их категории.\n",
      "Также для разработчиков существует коррекция результатов и сохранения их для послудующего обучения\n",
      "    \n",
      "Методы:\n",
      "    print_res(self)\n",
      "    load_model(self, filename = \"model.pkl\")\n",
      "    pdf_text(self, filename)\n",
      "    cleaning(self)\n",
      "    make_pred(self, p_num=1)\n",
      "    correction(self)\n",
      "    input_words_manually(self)\n",
      "    load_correction_dataset(self)\n",
      "    create_correction_dataset(self)\n",
      "    save_results(self)\n",
      "    comp_category(self)\n",
      "    \n",
      "    \n"
     ]
    }
   ],
   "source": [
    "print(api.__doc__)"
   ]
  },
  {
   "cell_type": "code",
   "execution_count": 88,
   "id": "ebb1a127",
   "metadata": {},
   "outputs": [
    {
     "name": "stdout",
     "output_type": "stream",
     "text": [
      ">>> Введите оприсание своих навыков: \n",
      ">>>участие в чемпионате\n"
     ]
    }
   ],
   "source": [
    "api.input_words_manually()"
   ]
  },
  {
   "cell_type": "code",
   "execution_count": 89,
   "id": "ff48eb60",
   "metadata": {},
   "outputs": [
    {
     "data": {
      "text/plain": [
       "'участие в чемпионате'"
      ]
     },
     "execution_count": 89,
     "metadata": {},
     "output_type": "execute_result"
    }
   ],
   "source": [
    "api.words"
   ]
  },
  {
   "cell_type": "code",
   "execution_count": 90,
   "id": "7192f4f6",
   "metadata": {},
   "outputs": [],
   "source": [
    "api.load_model()"
   ]
  },
  {
   "cell_type": "code",
   "execution_count": 91,
   "id": "d309a7e7",
   "metadata": {},
   "outputs": [
    {
     "data": {
      "text/plain": [
       "<bound method API.load_model of <__main__.API object at 0x00000165405895B0>>"
      ]
     },
     "execution_count": 91,
     "metadata": {},
     "output_type": "execute_result"
    }
   ],
   "source": [
    "api.load_model"
   ]
  },
  {
   "cell_type": "code",
   "execution_count": 92,
   "id": "c1cf3097",
   "metadata": {},
   "outputs": [],
   "source": [
    "api.make_pred(p_num=3)"
   ]
  },
  {
   "cell_type": "code",
   "execution_count": 93,
   "id": "2046f805",
   "metadata": {},
   "outputs": [
    {
     "name": "stdout",
     "output_type": "stream",
     "text": [
      "Гонтарь М.А.\n",
      "Глушко Д.Е.\n",
      "Никул Е.В.\n"
     ]
    }
   ],
   "source": [
    "api.print_res()"
   ]
  },
  {
   "cell_type": "code",
   "execution_count": 94,
   "id": "d3828362",
   "metadata": {},
   "outputs": [
    {
     "data": {
      "text/plain": [
       "['Гонтарь М.А.', 'Глушко Д.Е.', 'Никул Е.В.']"
      ]
     },
     "execution_count": 94,
     "metadata": {},
     "output_type": "execute_result"
    }
   ],
   "source": [
    "api.R"
   ]
  },
  {
   "cell_type": "code",
   "execution_count": 95,
   "id": "a5717b6a",
   "metadata": {},
   "outputs": [],
   "source": [
    "api.create_correction_dataset()"
   ]
  },
  {
   "cell_type": "code",
   "execution_count": 96,
   "id": "73bd42b5",
   "metadata": {},
   "outputs": [
    {
     "name": "stdout",
     "output_type": "stream",
     "text": [
      ">>> Введите название компетенции \n",
      ">>> Гонтарь М.А.\n",
      ">>> Введите названия категории(\"блока\") компетенции \n",
      ">>> -\n"
     ]
    }
   ],
   "source": [
    "api.correction()"
   ]
  },
  {
   "cell_type": "code",
   "execution_count": 97,
   "id": "bf0be20f",
   "metadata": {},
   "outputs": [
    {
     "data": {
      "text/html": [
       "<div>\n",
       "<style scoped>\n",
       "    .dataframe tbody tr th:only-of-type {\n",
       "        vertical-align: middle;\n",
       "    }\n",
       "\n",
       "    .dataframe tbody tr th {\n",
       "        vertical-align: top;\n",
       "    }\n",
       "\n",
       "    .dataframe thead th {\n",
       "        text-align: right;\n",
       "    }\n",
       "</style>\n",
       "<table border=\"1\" class=\"dataframe\">\n",
       "  <thead>\n",
       "    <tr style=\"text-align: right;\">\n",
       "      <th></th>\n",
       "      <th>words</th>\n",
       "      <th>comp</th>\n",
       "      <th>category</th>\n",
       "    </tr>\n",
       "  </thead>\n",
       "  <tbody>\n",
       "    <tr>\n",
       "      <th>0</th>\n",
       "      <td>участие в чемпионате</td>\n",
       "      <td>Гонтарь М.А.</td>\n",
       "      <td>-</td>\n",
       "    </tr>\n",
       "  </tbody>\n",
       "</table>\n",
       "</div>"
      ],
      "text/plain": [
       "                  words          comp category\n",
       "0  участие в чемпионате  Гонтарь М.А.        -"
      ]
     },
     "execution_count": 97,
     "metadata": {},
     "output_type": "execute_result"
    }
   ],
   "source": [
    "api.data"
   ]
  },
  {
   "cell_type": "code",
   "execution_count": 98,
   "id": "42c27af2",
   "metadata": {},
   "outputs": [
    {
     "ename": "IndexError",
     "evalue": "list index out of range",
     "output_type": "error",
     "traceback": [
      "\u001b[1;31m---------------------------------------------------------------------------\u001b[0m",
      "\u001b[1;31mIndexError\u001b[0m                                Traceback (most recent call last)",
      "Input \u001b[1;32mIn [98]\u001b[0m, in \u001b[0;36m<cell line: 1>\u001b[1;34m()\u001b[0m\n\u001b[1;32m----> 1\u001b[0m \u001b[43mapi\u001b[49m\u001b[38;5;241;43m.\u001b[39;49m\u001b[43msave_results\u001b[49m\u001b[43m(\u001b[49m\u001b[38;5;124;43m\"\u001b[39;49m\u001b[38;5;124;43moutput.pdf\u001b[39;49m\u001b[38;5;124;43m\"\u001b[39;49m\u001b[43m)\u001b[49m\n",
      "Input \u001b[1;32mIn [85]\u001b[0m, in \u001b[0;36mAPI.save_results\u001b[1;34m(self, filename)\u001b[0m\n\u001b[0;32m    118\u001b[0m \u001b[38;5;28;01mdef\u001b[39;00m \u001b[38;5;21msave_results\u001b[39m(\u001b[38;5;28mself\u001b[39m, filename):\n\u001b[0;32m    119\u001b[0m     \u001b[38;5;124;03m\"\"\"Функция сохранения результата в pdf файл, аргумет filename - имя файла, используется модуль fpdf\"\"\"\u001b[39;00m\n\u001b[1;32m--> 120\u001b[0m     text \u001b[38;5;241m=\u001b[39m \u001b[38;5;124m\"\u001b[39m\u001b[38;5;124mКатегория: \u001b[39m\u001b[38;5;124m\"\u001b[39m\u001b[38;5;241m+\u001b[39m \u001b[38;5;28mstr\u001b[39m(\u001b[38;5;28;43mself\u001b[39;49m\u001b[38;5;241;43m.\u001b[39;49m\u001b[43mcomp_cat\u001b[49m\u001b[43m[\u001b[49m\u001b[38;5;241;43m0\u001b[39;49m\u001b[43m]\u001b[49m) \u001b[38;5;241m+\u001b[39m\u001b[38;5;124m\"\u001b[39m\u001b[38;5;130;01m\\n\u001b[39;00m\u001b[38;5;124mКомпетенции: \u001b[39m\u001b[38;5;130;01m\\n\u001b[39;00m\u001b[38;5;124m\"\u001b[39m \n\u001b[0;32m    121\u001b[0m     \u001b[38;5;28;01mfor\u001b[39;00m i \u001b[38;5;129;01min\u001b[39;00m \u001b[38;5;28mself\u001b[39m\u001b[38;5;241m.\u001b[39mR:\n\u001b[0;32m    122\u001b[0m         text \u001b[38;5;241m=\u001b[39m text \u001b[38;5;241m+\u001b[39m\u001b[38;5;124m\"\u001b[39m\u001b[38;5;130;01m\\n\u001b[39;00m\u001b[38;5;124m\"\u001b[39m\u001b[38;5;241m+\u001b[39m \u001b[38;5;28mstr\u001b[39m(i)\n",
      "\u001b[1;31mIndexError\u001b[0m: list index out of range"
     ]
    }
   ],
   "source": [
    "api.save_results(\"output.pdf\")"
   ]
  },
  {
   "cell_type": "code",
   "execution_count": null,
   "id": "6a1e8239",
   "metadata": {},
   "outputs": [],
   "source": []
  }
 ],
 "metadata": {
  "kernelspec": {
   "display_name": "Python 3 (ipykernel)",
   "language": "python",
   "name": "python3"
  },
  "language_info": {
   "codemirror_mode": {
    "name": "ipython",
    "version": 3
   },
   "file_extension": ".py",
   "mimetype": "text/x-python",
   "name": "python",
   "nbconvert_exporter": "python",
   "pygments_lexer": "ipython3",
   "version": "3.8.8"
  }
 },
 "nbformat": 4,
 "nbformat_minor": 5
}
